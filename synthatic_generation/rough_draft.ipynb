{
 "cells": [
  {
   "cell_type": "code",
   "execution_count": 9,
   "id": "3fdb28b5-8f5b-4dac-bbd4-2b4b87516712",
   "metadata": {},
   "outputs": [
    {
     "name": "stdout",
     "output_type": "stream",
     "text": [
      "Collecting num2words\n",
      "  Downloading num2words-0.5.14-py3-none-any.whl.metadata (13 kB)\n",
      "Collecting docopt>=0.6.2 (from num2words)\n",
      "  Downloading docopt-0.6.2.tar.gz (25 kB)\n",
      "  Preparing metadata (setup.py) ... \u001b[?25ldone\n",
      "\u001b[?25hDownloading num2words-0.5.14-py3-none-any.whl (163 kB)\n",
      "\u001b[2K   \u001b[38;2;114;156;31m━━━━━━━━━━━━━━━━━━━━━━━━━━━━━━━━━━━━━━━━\u001b[0m \u001b[32m163.5/163.5 kB\u001b[0m \u001b[31m6.0 MB/s\u001b[0m eta \u001b[36m0:00:00\u001b[0m\n",
      "\u001b[?25hBuilding wheels for collected packages: docopt\n",
      "  Building wheel for docopt (setup.py) ... \u001b[?25ldone\n",
      "\u001b[?25h  Created wheel for docopt: filename=docopt-0.6.2-py2.py3-none-any.whl size=13706 sha256=24ac0dde2633273c5ced58d61a9941c5d24b9b25bb7b12bb84ef0dc585cab86c\n",
      "  Stored in directory: /home/alpha/.cache/pip/wheels/1a/bf/a1/4cee4f7678c68c5875ca89eaccf460593539805c3906722228\n",
      "Successfully built docopt\n",
      "Installing collected packages: docopt, num2words\n",
      "Successfully installed docopt-0.6.2 num2words-0.5.14\n",
      "Note: you may need to restart the kernel to use updated packages.\n"
     ]
    }
   ],
   "source": [
    "pip install num2words"
   ]
  },
  {
   "cell_type": "code",
   "execution_count": 1,
   "id": "7c733153-fa60-4816-bdda-ee81f6ac5436",
   "metadata": {},
   "outputs": [],
   "source": [
    "import random\n",
    "import datetime\n",
    "\n",
    "BANK_NAMES = [\n",
    "    \"State Bank of India\", \"HDFC Bank\", \"ICICI Bank\", \"Axis Bank\", \"Punjab National Bank\",\n",
    "    \"Bank of Baroda\", \"Canara Bank\", \"IDFC First Bank\", \"Yes Bank\", \"Kotak Mahindra Bank\"\n",
    "]\n",
    "\n",
    "NAMES = [\"Rahul Verma\", \"Anjali Mehta\", \"Suresh Iyer\", \"Neha Sharma\", \"Amit Kumar\"]\n",
    "\n",
    "def generate_amount():\n",
    "    length = random.randint(3, 8)\n",
    "    if length > 3:\n",
    "        base = random.randint(10**(length-4), 10**(length-3) - 1)\n",
    "        amount = int(str(base) + \"000\")\n",
    "    else:\n",
    "        amount = random.randint(100, 999)\n",
    "    return amount\n",
    "\n",
    "def amount_in_words(n):\n",
    "    import num2words\n",
    "    return num2words.num2words(n, to='currency', lang='en_IN').replace('euro', 'rupees').replace('cents', 'paise')\n",
    "\n",
    "def generate_date():\n",
    "    start_date = datetime.date(2021, 1, 1)\n",
    "    end_date = datetime.date.today()\n",
    "    random_date = start_date + datetime.timedelta(days=random.randint(0, (end_date - start_date).days))\n",
    "    return random_date.strftime(\"%d/%m/%Y\")\n",
    "\n",
    "def generate_cheque_data():\n",
    "    amount = generate_amount()\n",
    "    data = {\n",
    "        \"bank_name\": random.choice(BANK_NAMES),\n",
    "        \"ifsc\": f\"SBIN{random.randint(1000000, 9999999)}\",\n",
    "        \"account_no\": str(random.randint(1000000000, 9999999999)),\n",
    "        \"micr\": str(random.randint(100000000, 999999999)),\n",
    "        \"name\": random.choice(NAMES),\n",
    "        \"amount_digits\": str(amount),\n",
    "        \"amount_words\": amount_in_words(amount),\n",
    "        \"date\": generate_date()\n",
    "    }\n",
    "    return data\n"
   ]
  },
  {
   "cell_type": "code",
   "execution_count": 4,
   "id": "77edef6e-3f99-4093-82b5-418c9e8ea2a2",
   "metadata": {},
   "outputs": [],
   "source": [
    "from PIL import Image, ImageDraw, ImageFont\n",
    "import os\n",
    "import random\n",
    "#from generate_cheque_data import generate_cheque_data\n",
    "\n",
    "PRINTED_FONT_DIR = \"fonts/printed\"  # 20 standard fonts\n",
    "HANDWRITTEN_FONT_DIR = \"fonts/handwritten\"  # handwritten font(s)\n",
    "\n",
    "IMG_WIDTH = 1000\n",
    "IMG_HEIGHT = 400\n",
    "\n",
    "def get_random_font(font_dir, size):\n",
    "    font_files = [os.path.join(font_dir, f) for f in os.listdir(font_dir) if f.endswith(\".ttf\")]\n",
    "    return ImageFont.truetype(random.choice(font_files), size)\n",
    "\n",
    "def render_cheque(data, use_background=False):\n",
    "    if use_background:\n",
    "        img = generate_random_background()\n",
    "    else:\n",
    "        img = Image.new(\"RGB\", (IMG_WIDTH, IMG_HEIGHT), color=\"white\")\n",
    "    \n",
    "    draw = ImageDraw.Draw(img)\n",
    "\n",
    "    # Fonts\n",
    "    printed_font = get_random_font(PRINTED_FONT_DIR, 20)\n",
    "    handwritten_font = get_random_font(HANDWRITTEN_FONT_DIR, 24)\n",
    "\n",
    "    # Printed fields\n",
    "    draw.text((50, 30), data[\"bank_name\"], font=printed_font, fill=\"black\")\n",
    "    draw.text((50, 70), f\"IFSC: {data['ifsc']}\", font=printed_font, fill=\"black\")\n",
    "    draw.text((50, 110), f\"Account No: {data['account_no']}\", font=printed_font, fill=\"black\")\n",
    "    draw.text((50, 150), f\"MICR: {data['micr']}\", font=printed_font, fill=\"black\")\n",
    "\n",
    "    # Handwritten fields\n",
    "    draw.text((700, 30), data[\"date\"], font=handwritten_font, fill=\"black\")  # Date top-right\n",
    "    draw.text((150, 200), data[\"name\"], font=handwritten_font, fill=\"black\")\n",
    "    draw.text((150, 240), data[\"amount_words\"], font=handwritten_font, fill=\"black\")\n",
    "    draw.text((800, 280), data[\"amount_digits\"], font=handwritten_font, fill=\"black\")\n",
    "\n",
    "    return img\n"
   ]
  },
  {
   "cell_type": "code",
   "execution_count": 5,
   "id": "9b8eec7d-c8cb-44c5-ae3b-28c92d1ecb42",
   "metadata": {},
   "outputs": [],
   "source": [
    "from PIL import Image, ImageDraw\n",
    "import numpy as np\n",
    "\n",
    "def generate_random_background(width=1000, height=400):\n",
    "    base_color = np.random.randint(200, 255)\n",
    "    img = Image.new(\"RGB\", (width, height), color=(base_color, base_color, base_color))\n",
    "\n",
    "    # Add noise lines or texture\n",
    "    draw = ImageDraw.Draw(img)\n",
    "    for _ in range(20):\n",
    "        x1, y1 = random.randint(0, width), random.randint(0, height)\n",
    "        x2, y2 = x1 + random.randint(-50, 50), y1 + random.randint(-50, 50)\n",
    "        line_color = tuple(np.random.randint(180, 230, size=3))\n",
    "        draw.line([(x1, y1), (x2, y2)], fill=line_color, width=1)\n",
    "\n",
    "    return img\n"
   ]
  },
  {
   "cell_type": "code",
   "execution_count": 10,
   "id": "9bc83493-75ad-420c-899f-c22535f49927",
   "metadata": {},
   "outputs": [
    {
     "ename": "FileNotFoundError",
     "evalue": "[Errno 2] No such file or directory: 'fonts/printed'",
     "output_type": "error",
     "traceback": [
      "\u001b[0;31m---------------------------------------------------------------------------\u001b[0m",
      "\u001b[0;31mFileNotFoundError\u001b[0m                         Traceback (most recent call last)",
      "Cell \u001b[0;32mIn[10], line 5\u001b[0m\n\u001b[1;32m      1\u001b[0m \u001b[38;5;66;03m#from render_cheque_image import render_cheque\u001b[39;00m\n\u001b[1;32m      2\u001b[0m \u001b[38;5;66;03m#from generate_cheque_data import generate_cheque_data\u001b[39;00m\n\u001b[1;32m      4\u001b[0m data \u001b[38;5;241m=\u001b[39m generate_cheque_data()\n\u001b[0;32m----> 5\u001b[0m cheque_image \u001b[38;5;241m=\u001b[39m render_cheque(data, use_background\u001b[38;5;241m=\u001b[39m\u001b[38;5;28;01mTrue\u001b[39;00m)\n\u001b[1;32m      6\u001b[0m cheque_image\u001b[38;5;241m.\u001b[39msave(\u001b[38;5;124m\"\u001b[39m\u001b[38;5;124msample_cheque.jpg\u001b[39m\u001b[38;5;124m\"\u001b[39m)\n",
      "Cell \u001b[0;32mIn[4], line 25\u001b[0m, in \u001b[0;36mrender_cheque\u001b[0;34m(data, use_background)\u001b[0m\n\u001b[1;32m     22\u001b[0m draw \u001b[38;5;241m=\u001b[39m ImageDraw\u001b[38;5;241m.\u001b[39mDraw(img)\n\u001b[1;32m     24\u001b[0m \u001b[38;5;66;03m# Fonts\u001b[39;00m\n\u001b[0;32m---> 25\u001b[0m printed_font \u001b[38;5;241m=\u001b[39m get_random_font(PRINTED_FONT_DIR, \u001b[38;5;241m20\u001b[39m)\n\u001b[1;32m     26\u001b[0m handwritten_font \u001b[38;5;241m=\u001b[39m get_random_font(HANDWRITTEN_FONT_DIR, \u001b[38;5;241m24\u001b[39m)\n\u001b[1;32m     28\u001b[0m \u001b[38;5;66;03m# Printed fields\u001b[39;00m\n",
      "Cell \u001b[0;32mIn[4], line 13\u001b[0m, in \u001b[0;36mget_random_font\u001b[0;34m(font_dir, size)\u001b[0m\n\u001b[1;32m     12\u001b[0m \u001b[38;5;28;01mdef\u001b[39;00m \u001b[38;5;21mget_random_font\u001b[39m(font_dir, size):\n\u001b[0;32m---> 13\u001b[0m     font_files \u001b[38;5;241m=\u001b[39m [os\u001b[38;5;241m.\u001b[39mpath\u001b[38;5;241m.\u001b[39mjoin(font_dir, f) \u001b[38;5;28;01mfor\u001b[39;00m f \u001b[38;5;129;01min\u001b[39;00m os\u001b[38;5;241m.\u001b[39mlistdir(font_dir) \u001b[38;5;28;01mif\u001b[39;00m f\u001b[38;5;241m.\u001b[39mendswith(\u001b[38;5;124m\"\u001b[39m\u001b[38;5;124m.ttf\u001b[39m\u001b[38;5;124m\"\u001b[39m)]\n\u001b[1;32m     14\u001b[0m     \u001b[38;5;28;01mreturn\u001b[39;00m ImageFont\u001b[38;5;241m.\u001b[39mtruetype(random\u001b[38;5;241m.\u001b[39mchoice(font_files), size)\n",
      "\u001b[0;31mFileNotFoundError\u001b[0m: [Errno 2] No such file or directory: 'fonts/printed'"
     ]
    }
   ],
   "source": [
    "#from render_cheque_image import render_cheque\n",
    "#from generate_cheque_data import generate_cheque_data\n",
    "\n",
    "data = generate_cheque_data()\n",
    "cheque_image = render_cheque(data, use_background=True)\n",
    "cheque_image.save(\"sample_cheque.jpg\")\n"
   ]
  },
  {
   "cell_type": "code",
   "execution_count": null,
   "id": "21ec69d9-2520-4846-afb1-fd653507441e",
   "metadata": {},
   "outputs": [],
   "source": []
  }
 ],
 "metadata": {
  "kernelspec": {
   "display_name": "Python 3 (ipykernel)",
   "language": "python",
   "name": "python3"
  },
  "language_info": {
   "codemirror_mode": {
    "name": "ipython",
    "version": 3
   },
   "file_extension": ".py",
   "mimetype": "text/x-python",
   "name": "python",
   "nbconvert_exporter": "python",
   "pygments_lexer": "ipython3",
   "version": "3.12.4"
  }
 },
 "nbformat": 4,
 "nbformat_minor": 5
}
